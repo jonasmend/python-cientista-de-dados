{
 "cells": [
  {
   "cell_type": "code",
   "execution_count": 1,
   "id": "8e6e062b-d2d2-4877-adff-f09d90e1d8ea",
   "metadata": {},
   "outputs": [
    {
     "name": "stdout",
     "output_type": "stream",
     "text": [
      "200\n",
      "Maior valor:  45\n",
      "Menor valor:  1\n",
      "Soma:  108\n",
      "Arredondamento:  2.35\n"
     ]
    }
   ],
   "source": [
    "#funções internas\n",
    "print(abs(-200))\n",
    "lst = [1,2,30,30,45]\n",
    "print('Maior valor: ', max(lst))\n",
    "print('Menor valor: ', min(lst))\n",
    "print('Soma: ', sum(lst))\n",
    "print('Arredondamento: ', round(2.34567,2))"
   ]
  },
  {
   "cell_type": "code",
   "execution_count": 2,
   "id": "f9979577-5212-431f-af48-8fb0bebea258",
   "metadata": {},
   "outputs": [
    {
     "name": "stdout",
     "output_type": "stream",
     "text": [
      "Média:  21.6\n",
      "Mediana:  30\n",
      "Moda:  30\n"
     ]
    }
   ],
   "source": [
    "#statistics\n",
    "from statistics import *\n",
    "print('Média: ', mean(lst))\n",
    "print('Mediana: ', median(lst))\n",
    "print('Moda: ', mode(lst))"
   ]
  },
  {
   "cell_type": "code",
   "execution_count": 3,
   "id": "01722150-2de6-4632-bc78-62da61d508eb",
   "metadata": {},
   "outputs": [
    {
     "name": "stdout",
     "output_type": "stream",
     "text": [
      "Desvio padrão:  19.346834366376324\n"
     ]
    }
   ],
   "source": [
    "#desvio padrão da amostra\n",
    "print('Desvio padrão: ', stdev(lst))"
   ]
  },
  {
   "cell_type": "code",
   "execution_count": 4,
   "id": "3cad0420-bd03-4bdf-9cb8-ac02a4cddd35",
   "metadata": {},
   "outputs": [
    {
     "name": "stdout",
     "output_type": "stream",
     "text": [
      "Variância:  374.3\n"
     ]
    }
   ],
   "source": [
    "#variania da amostra\n",
    "print('Variância: ', variance(lst))"
   ]
  },
  {
   "cell_type": "code",
   "execution_count": 5,
   "id": "028c79bf-5ed4-4c57-836e-1e49433dbf58",
   "metadata": {},
   "outputs": [
    {
     "name": "stdout",
     "output_type": "stream",
     "text": [
      "<class 'numpy.ndarray'>\n",
      "[[0.80511715 0.25274989 0.49306262 0.53268616 0.80841655 0.65995414\n",
      "  0.68923736 0.29832346]\n",
      " [0.19035467 0.62550913 0.46701419 0.50936415 0.18471993 0.86422339\n",
      "  0.9778883  0.38858979]\n",
      " [0.68538056 0.17287553 0.11767357 0.29348434 0.64559126 0.73944125\n",
      "  0.14743353 0.29184929]\n",
      " [0.38776228 0.44386734 0.20587566 0.44324522 0.65176982 0.3091937\n",
      "  0.93221664 0.22704209]\n",
      " [0.69513624 0.16671544 0.01609101 0.03289708 0.3060793  0.63855622\n",
      "  0.33674381 0.3513015 ]\n",
      " [0.00133544 0.36314202 0.75563731 0.11110533 0.05278553 0.52473185\n",
      "  0.52144892 0.54262592]\n",
      " [0.89734372 0.53509477 0.34206147 0.65550038 0.29381886 0.89118144\n",
      "  0.35959237 0.05088656]\n",
      " [0.49141743 0.86004238 0.09418725 0.9000887  0.38668952 0.08058611\n",
      "  0.68783467 0.12193122]]\n"
     ]
    }
   ],
   "source": [
    "from numpy import *\n",
    "a = random.random((8,8))\n",
    "print(type(a))\n",
    "print(a)"
   ]
  },
  {
   "cell_type": "code",
   "execution_count": null,
   "id": "05bbc634-0db1-4ccd-a40a-c56b2f96036f",
   "metadata": {},
   "outputs": [],
   "source": []
  }
 ],
 "metadata": {
  "kernelspec": {
   "display_name": "Python 3",
   "language": "python",
   "name": "python3"
  },
  "language_info": {
   "codemirror_mode": {
    "name": "ipython",
    "version": 3
   },
   "file_extension": ".py",
   "mimetype": "text/x-python",
   "name": "python",
   "nbconvert_exporter": "python",
   "pygments_lexer": "ipython3",
   "version": "3.8.8"
  }
 },
 "nbformat": 4,
 "nbformat_minor": 5
}
