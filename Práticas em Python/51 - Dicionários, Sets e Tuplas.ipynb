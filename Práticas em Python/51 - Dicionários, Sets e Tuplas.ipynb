{
 "cells": [
  {
   "cell_type": "code",
   "execution_count": 1,
   "id": "fe3970c6-0c02-4eb9-adfe-56455deaf1b1",
   "metadata": {},
   "outputs": [
    {
     "name": "stdout",
     "output_type": "stream",
     "text": [
      "{'João': 6.0, 'Maria': 8.0, 'Pedro': 6.5}\n"
     ]
    }
   ],
   "source": [
    "#dicionários: estrutura chave/valor\n",
    "Notas = {'João': 6.0, 'Maria': 8.0, 'Pedro': 6.5}\n",
    "print(Notas)"
   ]
  },
  {
   "cell_type": "code",
   "execution_count": 2,
   "id": "4b4484a3-6d6a-466b-bc0e-caf25ee64970",
   "metadata": {},
   "outputs": [
    {
     "name": "stdout",
     "output_type": "stream",
     "text": [
      "6.0\n"
     ]
    }
   ],
   "source": [
    "print(Notas['João'])"
   ]
  },
  {
   "cell_type": "code",
   "execution_count": 3,
   "id": "199ec5b7-7b6e-4465-92b7-eb0e1fe165fa",
   "metadata": {},
   "outputs": [
    {
     "data": {
      "text/plain": [
       "dict_keys(['João', 'Maria', 'Pedro'])"
      ]
     },
     "execution_count": 3,
     "metadata": {},
     "output_type": "execute_result"
    }
   ],
   "source": [
    "#Todas as chaves\n",
    "Notas.keys()"
   ]
  },
  {
   "cell_type": "code",
   "execution_count": 4,
   "id": "309e74e3-e833-450d-a2e0-bbc3af345739",
   "metadata": {},
   "outputs": [
    {
     "data": {
      "text/plain": [
       "dict_values([6.0, 8.0, 6.5])"
      ]
     },
     "execution_count": 4,
     "metadata": {},
     "output_type": "execute_result"
    }
   ],
   "source": [
    "#Todos os valores\n",
    "Notas.values()"
   ]
  },
  {
   "cell_type": "code",
   "execution_count": 5,
   "id": "e1d4a22e-6fa4-4abd-92d8-936c783198cc",
   "metadata": {},
   "outputs": [
    {
     "name": "stdout",
     "output_type": "stream",
     "text": [
      "True\n",
      "False\n"
     ]
    }
   ],
   "source": [
    "#Testa logicamente a existência\n",
    "print('João' in Notas)\n",
    "print('Fernando' in Notas)"
   ]
  },
  {
   "cell_type": "code",
   "execution_count": 6,
   "id": "ff990cdf-54e3-4cbd-a038-5eff66985f47",
   "metadata": {},
   "outputs": [
    {
     "name": "stdout",
     "output_type": "stream",
     "text": [
      "{'Maria': 8.0, 'Pedro': 6.5}\n"
     ]
    }
   ],
   "source": [
    "#Apaga um elemento\n",
    "del Notas['João']\n",
    "print(Notas)"
   ]
  },
  {
   "cell_type": "code",
   "execution_count": 7,
   "id": "a52206f7-1c07-42bc-9004-9ef40532bcf7",
   "metadata": {},
   "outputs": [
    {
     "name": "stdout",
     "output_type": "stream",
     "text": [
      "{'Maria': 8.0, 'Pedro': 6.5, 'Ana': 9}\n"
     ]
    }
   ],
   "source": [
    "#inclui um elemento\n",
    "Notas['Ana'] = 9\n",
    "print(Notas)"
   ]
  },
  {
   "cell_type": "code",
   "execution_count": 9,
   "id": "9d127f88-111b-4f80-974d-f1c7c6714a4c",
   "metadata": {},
   "outputs": [
    {
     "data": {
      "text/plain": [
       "'Não encontrado!'"
      ]
     },
     "execution_count": 9,
     "metadata": {},
     "output_type": "execute_result"
    }
   ],
   "source": [
    "#Busca um valor, se não encontrar mostra segundo parâmetro\n",
    "Notas.get('Geraldo', \"Não encontrado!\")"
   ]
  },
  {
   "cell_type": "code",
   "execution_count": 10,
   "id": "254fb31f-cf57-455b-b05f-8d9b78cb268d",
   "metadata": {},
   "outputs": [
    {
     "name": "stdout",
     "output_type": "stream",
     "text": [
      "{'Hive', 'Sqoop', 'Spark'}\n"
     ]
    }
   ],
   "source": [
    "#sets são conjuntos não ordenados de elementos não repetidos\n",
    "bigdata = {'Spark', 'Hive', \"Sqoop\"}\n",
    "print(bigdata)"
   ]
  },
  {
   "cell_type": "code",
   "execution_count": 11,
   "id": "610194d7-36b8-40e1-904b-c7a53dfc2e92",
   "metadata": {},
   "outputs": [
    {
     "name": "stdout",
     "output_type": "stream",
     "text": [
      "True\n"
     ]
    }
   ],
   "source": [
    "#verifica existência\n",
    "print('Spark' in bigdata)"
   ]
  },
  {
   "cell_type": "code",
   "execution_count": 12,
   "id": "3b14e4b7-d53f-481f-af28-71566bf49419",
   "metadata": {},
   "outputs": [
    {
     "data": {
      "text/plain": [
       "{'Hadoop', 'Hive', 'Spark', 'Sqoop'}"
      ]
     },
     "execution_count": 12,
     "metadata": {},
     "output_type": "execute_result"
    }
   ],
   "source": [
    "#adiciona elemento\n",
    "bigdata.add('Hadoop')\n",
    "bigdata"
   ]
  },
  {
   "cell_type": "code",
   "execution_count": 13,
   "id": "c82cdeb7-36df-4518-8806-ad126879f6c0",
   "metadata": {},
   "outputs": [
    {
     "name": "stdout",
     "output_type": "stream",
     "text": [
      "4\n"
     ]
    }
   ],
   "source": [
    "#Número de elementos\n",
    "print(len(bigdata))"
   ]
  },
  {
   "cell_type": "code",
   "execution_count": 14,
   "id": "221348bc-c590-4517-b1c6-d1081faa22e6",
   "metadata": {},
   "outputs": [
    {
     "data": {
      "text/plain": [
       "{'Hadoop', 'Hive', 'Spark', 'Sqoop'}"
      ]
     },
     "execution_count": 14,
     "metadata": {},
     "output_type": "execute_result"
    }
   ],
   "source": [
    "bigdata.add('Spark')\n",
    "bigdata"
   ]
  },
  {
   "cell_type": "code",
   "execution_count": 15,
   "id": "f92dc537-adb2-4dac-84e8-a54f8a95a7dc",
   "metadata": {},
   "outputs": [
    {
     "data": {
      "text/plain": [
       "(1, 2, 3, 4, 5, 6, 7)"
      ]
     },
     "execution_count": 15,
     "metadata": {},
     "output_type": "execute_result"
    }
   ],
   "source": [
    "#tuplas são listas que não podem ser alteradas\n",
    "#listas usam [], tuplas usam ()\n",
    "tupla = (1,2,3,4,5,6,7)\n",
    "tupla"
   ]
  },
  {
   "cell_type": "code",
   "execution_count": 16,
   "id": "0fc7a3f1-225c-4b06-a47d-cb02e6699873",
   "metadata": {},
   "outputs": [
    {
     "data": {
      "text/plain": [
       "5"
      ]
     },
     "execution_count": 16,
     "metadata": {},
     "output_type": "execute_result"
    }
   ],
   "source": [
    "tupla[4]"
   ]
  },
  {
   "cell_type": "code",
   "execution_count": 17,
   "id": "c4ee4516-46f8-4283-8746-dbb3ec90ff3a",
   "metadata": {},
   "outputs": [
    {
     "data": {
      "text/plain": [
       "{(0, 1): 0,\n",
       " (1, 2): 1,\n",
       " (2, 3): 2,\n",
       " (3, 4): 3,\n",
       " (4, 5): 4,\n",
       " (5, 6): 5,\n",
       " (6, 7): 6,\n",
       " (7, 8): 7,\n",
       " (8, 9): 8,\n",
       " (9, 10): 9}"
      ]
     },
     "execution_count": 17,
     "metadata": {},
     "output_type": "execute_result"
    }
   ],
   "source": [
    "#dicionários em cada posição recebe uma tupla\n",
    "dic2 = {(0,1): 0, (1,2): 1, (2,3): 2, (3,4): 3, (4,5): 4, (5,6): 5, (6,7): 6, (7,8): 7, (8,9): 8, (9,10): 9}\n",
    "dic2"
   ]
  },
  {
   "cell_type": "code",
   "execution_count": 18,
   "id": "06ee7ac0-772c-4f3a-9d3c-be56a19bd031",
   "metadata": {},
   "outputs": [
    {
     "name": "stdout",
     "output_type": "stream",
     "text": [
      "<class 'dict'>\n",
      "<class 'set'>\n",
      "<class 'tuple'>\n"
     ]
    }
   ],
   "source": [
    "print(type(Notas))\n",
    "print(type(bigdata))\n",
    "print(type(tupla))"
   ]
  },
  {
   "cell_type": "code",
   "execution_count": null,
   "id": "020b6fa1-fd5a-437f-8fdd-3b6898f9ae84",
   "metadata": {},
   "outputs": [],
   "source": []
  }
 ],
 "metadata": {
  "kernelspec": {
   "display_name": "Python 3",
   "language": "python",
   "name": "python3"
  },
  "language_info": {
   "codemirror_mode": {
    "name": "ipython",
    "version": 3
   },
   "file_extension": ".py",
   "mimetype": "text/x-python",
   "name": "python",
   "nbconvert_exporter": "python",
   "pygments_lexer": "ipython3",
   "version": "3.8.8"
  }
 },
 "nbformat": 4,
 "nbformat_minor": 5
}
