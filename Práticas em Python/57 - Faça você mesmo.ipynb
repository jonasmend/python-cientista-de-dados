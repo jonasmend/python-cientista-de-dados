{
 "cells": [
  {
   "cell_type": "code",
   "execution_count": 1,
   "id": "f8395a67-8165-40cd-8e8d-4dba76ebdcca",
   "metadata": {},
   "outputs": [
    {
     "name": "stdout",
     "output_type": "stream",
     "text": [
      "30\n"
     ]
    }
   ],
   "source": [
    "def amplitude(lst):\n",
    "    return max(lst) - min(lst)\n",
    "\n",
    "lst = [10,30,40,20]\n",
    "print(amplitude(lst))"
   ]
  },
  {
   "cell_type": "code",
   "execution_count": 3,
   "id": "4eb07aba-a364-4fba-ba3b-047c6a0b6951",
   "metadata": {},
   "outputs": [
    {
     "name": "stdout",
     "output_type": "stream",
     "text": [
      "P\n",
      "y\n",
      "t\n",
      "h\n",
      "o\n",
      "n\n"
     ]
    }
   ],
   "source": [
    "def imprimeVertical(str):\n",
    "    for n in range(0, len(str)):\n",
    "        print(str[n])\n",
    "        \n",
    "imprimeVertical('Python')"
   ]
  },
  {
   "cell_type": "code",
   "execution_count": 10,
   "id": "54916295-e770-418d-ad94-fa166aef54e2",
   "metadata": {},
   "outputs": [
    {
     "name": "stdin",
     "output_type": "stream",
     "text": [
      "Informe o peso da carga:  21\n"
     ]
    },
    {
     "name": "stdout",
     "output_type": "stream",
     "text": [
      "Transporte não aceito!\n"
     ]
    }
   ],
   "source": [
    "peso = input('Informe o peso da carga: ')\n",
    "peso = int(peso)\n",
    "\n",
    "if peso <= 10:\n",
    "    print('Valor será R$50,00')\n",
    "elif peso > 10 and peso <= 20:\n",
    "    print('Valor será de R$80,00')\n",
    "else:\n",
    "    print('Transporte não aceito!')"
   ]
  },
  {
   "cell_type": "code",
   "execution_count": null,
   "id": "0da372b4-d419-4364-81f8-52df7e2c1f3b",
   "metadata": {},
   "outputs": [],
   "source": []
  }
 ],
 "metadata": {
  "kernelspec": {
   "display_name": "Python 3",
   "language": "python",
   "name": "python3"
  },
  "language_info": {
   "codemirror_mode": {
    "name": "ipython",
    "version": 3
   },
   "file_extension": ".py",
   "mimetype": "text/x-python",
   "name": "python",
   "nbconvert_exporter": "python",
   "pygments_lexer": "ipython3",
   "version": "3.8.8"
  }
 },
 "nbformat": 4,
 "nbformat_minor": 5
}
