{
 "cells": [
  {
   "cell_type": "code",
   "execution_count": 2,
   "id": "5f31de3d-9f13-47a8-abb4-7357a9d372cc",
   "metadata": {},
   "outputs": [
    {
     "name": "stdout",
     "output_type": "stream",
     "text": [
      "Aprovado\n",
      "Parabéns!\n"
     ]
    }
   ],
   "source": [
    "nota = 7\n",
    "if nota >= 7:\n",
    "    print('Aprovado')\n",
    "    print('Parabéns!')\n",
    "else:\n",
    "    print('Reprovado')"
   ]
  },
  {
   "cell_type": "code",
   "execution_count": 1,
   "id": "aa4f68aa-dc3f-420d-87da-4e0252e77dd3",
   "metadata": {},
   "outputs": [
    {
     "name": "stdout",
     "output_type": "stream",
     "text": [
      "Reprovado\n"
     ]
    }
   ],
   "source": [
    "#só mudar o valor da variável\n",
    "nota = 5\n",
    "if nota >= 7:\n",
    "    print('Aprovado')\n",
    "else:\n",
    "    print('Reprovado')"
   ]
  },
  {
   "cell_type": "code",
   "execution_count": null,
   "id": "7c6985cf-d921-4901-bc6b-a77618ea760e",
   "metadata": {
    "tags": []
   },
   "outputs": [],
   "source": [
    "#Testar com 4, 5 e 7\n",
    "nota = 7\n",
    "if nota <= 4:\n",
    "    print('Reprovado')\n",
    "elif nota > 4 and nota <= 6:\n",
    "    print('Exame')\n",
    "else:\n",
    "    print('Aprovado')"
   ]
  }
 ],
 "metadata": {
  "kernelspec": {
   "display_name": "Python 3",
   "language": "python",
   "name": "python3"
  },
  "language_info": {
   "codemirror_mode": {
    "name": "ipython",
    "version": 3
   },
   "file_extension": ".py",
   "mimetype": "text/x-python",
   "name": "python",
   "nbconvert_exporter": "python",
   "pygments_lexer": "ipython3",
   "version": "3.8.8"
  }
 },
 "nbformat": 4,
 "nbformat_minor": 5
}
